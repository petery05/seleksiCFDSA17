{
 "cells": [
  {
   "cell_type": "code",
   "execution_count": 7,
   "id": "088dc77b",
   "metadata": {},
   "outputs": [],
   "source": [
    "import pandas as pd\n",
    "import joblib"
   ]
  },
  {
   "cell_type": "code",
   "execution_count": 8,
   "id": "2b9619b1",
   "metadata": {},
   "outputs": [],
   "source": [
    "test = pd.read_csv(\"test.csv\")"
   ]
  },
  {
   "cell_type": "code",
   "execution_count": 9,
   "id": "14567325",
   "metadata": {},
   "outputs": [
    {
     "data": {
      "text/html": [
       "<div>\n",
       "<style scoped>\n",
       "    .dataframe tbody tr th:only-of-type {\n",
       "        vertical-align: middle;\n",
       "    }\n",
       "\n",
       "    .dataframe tbody tr th {\n",
       "        vertical-align: top;\n",
       "    }\n",
       "\n",
       "    .dataframe thead th {\n",
       "        text-align: right;\n",
       "    }\n",
       "</style>\n",
       "<table border=\"1\" class=\"dataframe\">\n",
       "  <thead>\n",
       "    <tr style=\"text-align: right;\">\n",
       "      <th></th>\n",
       "      <th>ID</th>\n",
       "      <th>date</th>\n",
       "      <th>cluster_id</th>\n",
       "      <th>temperature_2m_max</th>\n",
       "      <th>temperature_2m_min</th>\n",
       "      <th>apparent_temperature_max</th>\n",
       "      <th>apparent_temperature_min</th>\n",
       "      <th>sunshine_duration</th>\n",
       "      <th>daylight_duration</th>\n",
       "      <th>wind_speed_10m_max</th>\n",
       "      <th>wind_gusts_10m_max</th>\n",
       "      <th>wind_direction_10m_dominant</th>\n",
       "      <th>shortwave_radiation_sum</th>\n",
       "      <th>et0_fao_evapotranspiration</th>\n",
       "    </tr>\n",
       "  </thead>\n",
       "  <tbody>\n",
       "    <tr>\n",
       "      <th>0</th>\n",
       "      <td>cluster_1_2022-01-01</td>\n",
       "      <td>2022-01-01</td>\n",
       "      <td>cluster_1</td>\n",
       "      <td>15.2</td>\n",
       "      <td>7.9</td>\n",
       "      <td>14.2</td>\n",
       "      <td>5.2</td>\n",
       "      <td>21902.986667</td>\n",
       "      <td>29784.506667</td>\n",
       "      <td>22.2</td>\n",
       "      <td>37.8</td>\n",
       "      <td>172.732245</td>\n",
       "      <td>4.173333</td>\n",
       "      <td>0.780000</td>\n",
       "    </tr>\n",
       "    <tr>\n",
       "      <th>1</th>\n",
       "      <td>cluster_2_2022-01-01</td>\n",
       "      <td>2022-01-01</td>\n",
       "      <td>cluster_2</td>\n",
       "      <td>15.9</td>\n",
       "      <td>4.1</td>\n",
       "      <td>15.3</td>\n",
       "      <td>1.3</td>\n",
       "      <td>23550.080000</td>\n",
       "      <td>30647.540000</td>\n",
       "      <td>22.7</td>\n",
       "      <td>38.5</td>\n",
       "      <td>163.972679</td>\n",
       "      <td>5.146667</td>\n",
       "      <td>0.730000</td>\n",
       "    </tr>\n",
       "    <tr>\n",
       "      <th>2</th>\n",
       "      <td>cluster_3_2022-01-01</td>\n",
       "      <td>2022-01-01</td>\n",
       "      <td>cluster_3</td>\n",
       "      <td>18.6</td>\n",
       "      <td>4.9</td>\n",
       "      <td>18.8</td>\n",
       "      <td>1.8</td>\n",
       "      <td>24179.643333</td>\n",
       "      <td>31545.103333</td>\n",
       "      <td>15.5</td>\n",
       "      <td>26.3</td>\n",
       "      <td>198.645137</td>\n",
       "      <td>5.713333</td>\n",
       "      <td>0.730000</td>\n",
       "    </tr>\n",
       "    <tr>\n",
       "      <th>3</th>\n",
       "      <td>cluster_4_2022-01-01</td>\n",
       "      <td>2022-01-01</td>\n",
       "      <td>cluster_4</td>\n",
       "      <td>13.3</td>\n",
       "      <td>3.9</td>\n",
       "      <td>11.9</td>\n",
       "      <td>1.3</td>\n",
       "      <td>23839.203333</td>\n",
       "      <td>30766.446667</td>\n",
       "      <td>16.1</td>\n",
       "      <td>27.4</td>\n",
       "      <td>183.517316</td>\n",
       "      <td>4.200000</td>\n",
       "      <td>0.486667</td>\n",
       "    </tr>\n",
       "    <tr>\n",
       "      <th>4</th>\n",
       "      <td>cluster_1_2022-01-02</td>\n",
       "      <td>2022-01-02</td>\n",
       "      <td>cluster_1</td>\n",
       "      <td>14.1</td>\n",
       "      <td>8.1</td>\n",
       "      <td>11.2</td>\n",
       "      <td>5.3</td>\n",
       "      <td>21018.193333</td>\n",
       "      <td>29847.110000</td>\n",
       "      <td>34.4</td>\n",
       "      <td>59.4</td>\n",
       "      <td>223.335840</td>\n",
       "      <td>4.030000</td>\n",
       "      <td>1.170000</td>\n",
       "    </tr>\n",
       "  </tbody>\n",
       "</table>\n",
       "</div>"
      ],
      "text/plain": [
       "                     ID        date cluster_id  temperature_2m_max  \\\n",
       "0  cluster_1_2022-01-01  2022-01-01  cluster_1                15.2   \n",
       "1  cluster_2_2022-01-01  2022-01-01  cluster_2                15.9   \n",
       "2  cluster_3_2022-01-01  2022-01-01  cluster_3                18.6   \n",
       "3  cluster_4_2022-01-01  2022-01-01  cluster_4                13.3   \n",
       "4  cluster_1_2022-01-02  2022-01-02  cluster_1                14.1   \n",
       "\n",
       "   temperature_2m_min  apparent_temperature_max  apparent_temperature_min  \\\n",
       "0                 7.9                      14.2                       5.2   \n",
       "1                 4.1                      15.3                       1.3   \n",
       "2                 4.9                      18.8                       1.8   \n",
       "3                 3.9                      11.9                       1.3   \n",
       "4                 8.1                      11.2                       5.3   \n",
       "\n",
       "   sunshine_duration  daylight_duration  wind_speed_10m_max  \\\n",
       "0       21902.986667       29784.506667                22.2   \n",
       "1       23550.080000       30647.540000                22.7   \n",
       "2       24179.643333       31545.103333                15.5   \n",
       "3       23839.203333       30766.446667                16.1   \n",
       "4       21018.193333       29847.110000                34.4   \n",
       "\n",
       "   wind_gusts_10m_max  wind_direction_10m_dominant  shortwave_radiation_sum  \\\n",
       "0                37.8                   172.732245                 4.173333   \n",
       "1                38.5                   163.972679                 5.146667   \n",
       "2                26.3                   198.645137                 5.713333   \n",
       "3                27.4                   183.517316                 4.200000   \n",
       "4                59.4                   223.335840                 4.030000   \n",
       "\n",
       "   et0_fao_evapotranspiration  \n",
       "0                    0.780000  \n",
       "1                    0.730000  \n",
       "2                    0.730000  \n",
       "3                    0.486667  \n",
       "4                    1.170000  "
      ]
     },
     "execution_count": 9,
     "metadata": {},
     "output_type": "execute_result"
    }
   ],
   "source": [
    "test.head()"
   ]
  },
  {
   "cell_type": "code",
   "execution_count": 10,
   "id": "4da469fc",
   "metadata": {},
   "outputs": [],
   "source": [
    "test['cluster_id'] = test['cluster_id'].str.replace('cluster_', '')\n",
    "test['cluster_id'] = test['cluster_id'].astype(int)"
   ]
  },
  {
   "cell_type": "code",
   "execution_count": 11,
   "id": "a0c232b1",
   "metadata": {},
   "outputs": [],
   "source": [
    "model = 'cobaLAGI.joblib'\n",
    "cobaModel = joblib.load(model)"
   ]
  },
  {
   "cell_type": "code",
   "execution_count": 12,
   "id": "048e3d3e",
   "metadata": {},
   "outputs": [],
   "source": [
    "X_test = test.drop(columns=['ID','date'])"
   ]
  },
  {
   "cell_type": "code",
   "execution_count": 13,
   "id": "25961c93",
   "metadata": {},
   "outputs": [],
   "source": [
    "hasil_prediksi = cobaModel.predict(X_test)"
   ]
  },
  {
   "cell_type": "code",
   "execution_count": 14,
   "id": "a4f5985c",
   "metadata": {},
   "outputs": [
    {
     "name": "stdout",
     "output_type": "stream",
     "text": [
      "Selesai! File submission 'submission_hasil_prediksi.csv' siap di-upload.\n"
     ]
    }
   ],
   "source": [
    "submission_test = pd.DataFrame({\n",
    "    'ID': test['ID'],\n",
    "    'electricity_consumption': hasil_prediksi\n",
    "})\n",
    "submission_test.to_csv('sample_submission.csv', index=False)\n",
    "\n",
    "print(\"Selesai! File submission 'submission_hasil_prediksi.csv' siap di-upload.\")\n"
   ]
  }
 ],
 "metadata": {
  "kernelspec": {
   "display_name": "base",
   "language": "python",
   "name": "python3"
  },
  "language_info": {
   "codemirror_mode": {
    "name": "ipython",
    "version": 3
   },
   "file_extension": ".py",
   "mimetype": "text/x-python",
   "name": "python",
   "nbconvert_exporter": "python",
   "pygments_lexer": "ipython3",
   "version": "3.12.4"
  }
 },
 "nbformat": 4,
 "nbformat_minor": 5
}
